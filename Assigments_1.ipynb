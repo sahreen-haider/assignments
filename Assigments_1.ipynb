{
 "cells": [
  {
   "cell_type": "code",
   "execution_count": 1,
   "metadata": {},
   "outputs": [
    {
     "name": "stdout",
     "output_type": "stream",
     "text": [
      "[0 0 0 0 1 0 0 0 0 0]\n"
     ]
    }
   ],
   "source": [
    "# question 1\n",
    "# Create a null vector of size 10 but the fifth value which is 1.\n",
    "\n",
    "import numpy as np\n",
    "arr = np.array([int(x==4) for x in range(10)])\n",
    "print(arr)"
   ]
  },
  {
   "cell_type": "code",
   "execution_count": 2,
   "metadata": {},
   "outputs": [
    {
     "name": "stdout",
     "output_type": "stream",
     "text": [
      "[[0 1 2]\n",
      " [3 4 5]\n",
      " [6 7 8]]\n"
     ]
    }
   ],
   "source": [
    "# question 3\n",
    "# Create a 3x3 matrix with values ranging from 0 to 8.\n",
    "\n",
    "import numpy as np\n",
    "arr =  np.arange(0, 9)\n",
    "arr = arr.reshape(3, 3)\n",
    "print(arr)"
   ]
  },
  {
   "cell_type": "code",
   "execution_count": 3,
   "metadata": {},
   "outputs": [
    {
     "name": "stdout",
     "output_type": "stream",
     "text": [
      "The vector: \n",
      "[11 12 13 14 15 16 17 18 19 20 21 22 23 24 25 26 27 28 29 30 31 32 33 34\n",
      " 35 36 37 38 39 40 41 42 43 44 45 46 47 48]\n"
     ]
    }
   ],
   "source": [
    "# question 2\n",
    "# Create a vector with values ranging from 10 to 49.\n",
    "\n",
    "import numpy as np\n",
    "arr = np.arange(10, 50)\n",
    "print(\"The vector: \")\n",
    "print(arr[1:-1])"
   ]
  },
  {
   "cell_type": "code",
   "execution_count": 4,
   "metadata": {},
   "outputs": [
    {
     "name": "stdout",
     "output_type": "stream",
     "text": [
      "All the index numbers of value 0:  [2 3 5]\n"
     ]
    }
   ],
   "source": [
    "# question 4\n",
    "# Find indices of non-zero elements from [1,2,0,0,4,0].\n",
    "\n",
    "import numpy as np\n",
    "arr = np.array([1,2,0,0,4,0])\n",
    "print(\"All the index numbers of value 0: \", np.where(arr == 0)[0])"
   ]
  },
  {
   "cell_type": "code",
   "execution_count": 6,
   "metadata": {},
   "outputs": [
    {
     "name": "stdout",
     "output_type": "stream",
     "text": [
      "The Array:\n",
      "The minimum value is: 0.0174884387725891, The maximum value is: 0.9992242308046086\n"
     ]
    }
   ],
   "source": [
    "# question 5\n",
    "# Create a 10x10 array with random values and find the minimum and maximum values.\n",
    "\n",
    "import numpy as np\n",
    "arr = np.random.random((10,10))\n",
    "print(\"The Array:\")\n",
    "xmin, xmax = arr.min(), arr.max()\n",
    "print(f'The minimum value is: {xmin}, The maximum value is: {xmax}')"
   ]
  },
  {
   "cell_type": "code",
   "execution_count": 7,
   "metadata": {},
   "outputs": [
    {
     "name": "stdout",
     "output_type": "stream",
     "text": [
      "[0.89738224 0.69800386 0.94993408 0.31472401 0.73903249 0.94567287\n",
      " 0.88712585 0.83277893 0.27915324 0.77407847 0.96117495 0.52997854\n",
      " 0.03243754 0.39432157 0.62135747 0.6870652  0.61517193 0.64404755\n",
      " 0.78536395 0.49995425 0.60294478 0.10554356 0.17706326 0.39370542\n",
      " 0.12812707 0.36694625 0.19437084 0.33102702 0.75496334 0.49810048]\n",
      "The mean for the array is: 0.5547183667600244\n"
     ]
    }
   ],
   "source": [
    "# question 6\n",
    "# Create a random vector of size 30 and find the mean value.\n",
    "\n",
    "import numpy as np\n",
    "arr = np.random.random(30)\n",
    "\n",
    "print(f'{arr}\\nThe mean for the array is: {np.mean(arr)}')"
   ]
  },
  {
   "cell_type": "code",
   "execution_count": null,
   "metadata": {},
   "outputs": [],
   "source": []
  }
 ],
 "metadata": {
  "kernelspec": {
   "display_name": "Python 3.10.2 64-bit",
   "language": "python",
   "name": "python3"
  },
  "language_info": {
   "codemirror_mode": {
    "name": "ipython",
    "version": 3
   },
   "file_extension": ".py",
   "mimetype": "text/x-python",
   "name": "python",
   "nbconvert_exporter": "python",
   "pygments_lexer": "ipython3",
   "version": "3.10.2"
  },
  "orig_nbformat": 4,
  "vscode": {
   "interpreter": {
    "hash": "aee8b7b246df8f9039afb4144a1f6fd8d2ca17a180786b69acc140d282b71a49"
   }
  }
 },
 "nbformat": 4,
 "nbformat_minor": 2
}
